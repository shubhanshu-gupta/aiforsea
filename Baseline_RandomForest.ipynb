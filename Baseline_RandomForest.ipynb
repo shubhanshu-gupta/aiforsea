{
 "cells": [
  {
   "cell_type": "code",
   "execution_count": 1,
   "metadata": {},
   "outputs": [],
   "source": [
    "import re\n",
    "import os\n",
    "import numpy as np\n",
    "import pandas as pd\n",
    "from sklearn import tree, metrics, model_selection\n",
    "from sklearn.tree import _tree"
   ]
  },
  {
   "cell_type": "code",
   "execution_count": 2,
   "metadata": {},
   "outputs": [],
   "source": [
    "if 'notebooks' in os.path.abspath(os.curdir):\n",
    "    PROJ_DIR = os.path.join(os.path.abspath(os.curdir), '..')\n",
    "else:\n",
    "    PROJ_DIR = os.path.abspath(os.curdir)"
   ]
  },
  {
   "cell_type": "code",
   "execution_count": 3,
   "metadata": {},
   "outputs": [
    {
     "data": {
      "text/plain": [
       "'/Users/shubhanshugupta/Desktop/aiforsea'"
      ]
     },
     "execution_count": 3,
     "metadata": {},
     "output_type": "execute_result"
    }
   ],
   "source": [
    "PROJ_DIR"
   ]
  },
  {
   "cell_type": "code",
   "execution_count": null,
   "metadata": {},
   "outputs": [],
   "source": [
    "import dask.dataframe as dd\n",
    "features_df = dd.read_csv(PROJ_DIR + '/safety/features/*.csv')"
   ]
  },
  {
   "cell_type": "code",
   "execution_count": null,
   "metadata": {},
   "outputs": [],
   "source": [
    "features_df.describe()"
   ]
  },
  {
   "cell_type": "code",
   "execution_count": 5,
   "metadata": {},
   "outputs": [],
   "source": [
    "import glob\n",
    "\n",
    "# glob.glob('data*.csv') - returns List[str]\n",
    "# pd.read_csv(f) - returns pd.DataFrame()\n",
    "# for f in glob.glob() - returns a List[DataFrames]\n",
    "# pd.concat() - returns one pd.DataFrame()\n",
    "df = pd.concat([pd.read_csv(f) for f in glob.glob(PROJ_DIR + '/safety/features/*.csv')], ignore_index = True)"
   ]
  },
  {
   "cell_type": "code",
   "execution_count": 6,
   "metadata": {},
   "outputs": [
    {
     "data": {
      "text/plain": [
       "(16135561, 11)"
      ]
     },
     "execution_count": 6,
     "metadata": {},
     "output_type": "execute_result"
    }
   ],
   "source": [
    "df.shape"
   ]
  },
  {
   "cell_type": "code",
   "execution_count": 7,
   "metadata": {},
   "outputs": [
    {
     "data": {
      "text/html": [
       "<div>\n",
       "<style scoped>\n",
       "    .dataframe tbody tr th:only-of-type {\n",
       "        vertical-align: middle;\n",
       "    }\n",
       "\n",
       "    .dataframe tbody tr th {\n",
       "        vertical-align: top;\n",
       "    }\n",
       "\n",
       "    .dataframe thead th {\n",
       "        text-align: right;\n",
       "    }\n",
       "</style>\n",
       "<table border=\"1\" class=\"dataframe\">\n",
       "  <thead>\n",
       "    <tr style=\"text-align: right;\">\n",
       "      <th></th>\n",
       "      <th>bookingID</th>\n",
       "      <th>Accuracy</th>\n",
       "      <th>Bearing</th>\n",
       "      <th>acceleration_x</th>\n",
       "      <th>acceleration_y</th>\n",
       "      <th>acceleration_z</th>\n",
       "      <th>gyro_x</th>\n",
       "      <th>gyro_y</th>\n",
       "      <th>gyro_z</th>\n",
       "      <th>second</th>\n",
       "      <th>Speed</th>\n",
       "    </tr>\n",
       "  </thead>\n",
       "  <tbody>\n",
       "    <tr>\n",
       "      <th>0</th>\n",
       "      <td>1194000908341</td>\n",
       "      <td>4.000</td>\n",
       "      <td>203.000000</td>\n",
       "      <td>1.001973</td>\n",
       "      <td>9.745000</td>\n",
       "      <td>-0.790087</td>\n",
       "      <td>-0.066046</td>\n",
       "      <td>0.019175</td>\n",
       "      <td>0.044741</td>\n",
       "      <td>246.0</td>\n",
       "      <td>6.480000</td>\n",
       "    </tr>\n",
       "    <tr>\n",
       "      <th>1</th>\n",
       "      <td>1099511627891</td>\n",
       "      <td>3.000</td>\n",
       "      <td>311.000000</td>\n",
       "      <td>0.452518</td>\n",
       "      <td>9.273026</td>\n",
       "      <td>3.098191</td>\n",
       "      <td>0.005382</td>\n",
       "      <td>0.002155</td>\n",
       "      <td>-0.001436</td>\n",
       "      <td>66.0</td>\n",
       "      <td>0.340365</td>\n",
       "    </tr>\n",
       "    <tr>\n",
       "      <th>2</th>\n",
       "      <td>962072674446</td>\n",
       "      <td>10.000</td>\n",
       "      <td>142.807999</td>\n",
       "      <td>0.018542</td>\n",
       "      <td>-8.041156</td>\n",
       "      <td>-4.960114</td>\n",
       "      <td>0.004223</td>\n",
       "      <td>-0.014875</td>\n",
       "      <td>0.007397</td>\n",
       "      <td>1552.0</td>\n",
       "      <td>2.050000</td>\n",
       "    </tr>\n",
       "    <tr>\n",
       "      <th>3</th>\n",
       "      <td>1142461300867</td>\n",
       "      <td>8.000</td>\n",
       "      <td>171.205292</td>\n",
       "      <td>-0.290698</td>\n",
       "      <td>-8.295367</td>\n",
       "      <td>-3.049042</td>\n",
       "      <td>0.033618</td>\n",
       "      <td>0.046224</td>\n",
       "      <td>0.030559</td>\n",
       "      <td>277.0</td>\n",
       "      <td>17.608448</td>\n",
       "    </tr>\n",
       "    <tr>\n",
       "      <th>4</th>\n",
       "      <td>412316860548</td>\n",
       "      <td>19.379</td>\n",
       "      <td>0.000000</td>\n",
       "      <td>0.675613</td>\n",
       "      <td>8.846130</td>\n",
       "      <td>1.852508</td>\n",
       "      <td>-0.008652</td>\n",
       "      <td>0.003693</td>\n",
       "      <td>0.001160</td>\n",
       "      <td>148.0</td>\n",
       "      <td>0.000000</td>\n",
       "    </tr>\n",
       "  </tbody>\n",
       "</table>\n",
       "</div>"
      ],
      "text/plain": [
       "       bookingID  Accuracy     Bearing  acceleration_x  acceleration_y  \\\n",
       "0  1194000908341     4.000  203.000000        1.001973        9.745000   \n",
       "1  1099511627891     3.000  311.000000        0.452518        9.273026   \n",
       "2   962072674446    10.000  142.807999        0.018542       -8.041156   \n",
       "3  1142461300867     8.000  171.205292       -0.290698       -8.295367   \n",
       "4   412316860548    19.379    0.000000        0.675613        8.846130   \n",
       "\n",
       "   acceleration_z    gyro_x    gyro_y    gyro_z  second      Speed  \n",
       "0       -0.790087 -0.066046  0.019175  0.044741   246.0   6.480000  \n",
       "1        3.098191  0.005382  0.002155 -0.001436    66.0   0.340365  \n",
       "2       -4.960114  0.004223 -0.014875  0.007397  1552.0   2.050000  \n",
       "3       -3.049042  0.033618  0.046224  0.030559   277.0  17.608448  \n",
       "4        1.852508 -0.008652  0.003693  0.001160   148.0   0.000000  "
      ]
     },
     "execution_count": 7,
     "metadata": {},
     "output_type": "execute_result"
    }
   ],
   "source": [
    "df.head()"
   ]
  },
  {
   "cell_type": "code",
   "execution_count": 8,
   "metadata": {},
   "outputs": [],
   "source": [
    "labels = pd.read_csv(PROJ_DIR + '/safety/labels/part-00000-e9445087-aa0a-433b-a7f6-7f4c19d78ad6-c000.csv')"
   ]
  },
  {
   "cell_type": "code",
   "execution_count": 9,
   "metadata": {},
   "outputs": [
    {
     "data": {
      "text/html": [
       "<div>\n",
       "<style scoped>\n",
       "    .dataframe tbody tr th:only-of-type {\n",
       "        vertical-align: middle;\n",
       "    }\n",
       "\n",
       "    .dataframe tbody tr th {\n",
       "        vertical-align: top;\n",
       "    }\n",
       "\n",
       "    .dataframe thead th {\n",
       "        text-align: right;\n",
       "    }\n",
       "</style>\n",
       "<table border=\"1\" class=\"dataframe\">\n",
       "  <thead>\n",
       "    <tr style=\"text-align: right;\">\n",
       "      <th></th>\n",
       "      <th>bookingID</th>\n",
       "      <th>label</th>\n",
       "    </tr>\n",
       "  </thead>\n",
       "  <tbody>\n",
       "    <tr>\n",
       "      <th>0</th>\n",
       "      <td>111669149733</td>\n",
       "      <td>0</td>\n",
       "    </tr>\n",
       "    <tr>\n",
       "      <th>1</th>\n",
       "      <td>335007449205</td>\n",
       "      <td>1</td>\n",
       "    </tr>\n",
       "    <tr>\n",
       "      <th>2</th>\n",
       "      <td>171798691856</td>\n",
       "      <td>0</td>\n",
       "    </tr>\n",
       "    <tr>\n",
       "      <th>3</th>\n",
       "      <td>1520418422900</td>\n",
       "      <td>0</td>\n",
       "    </tr>\n",
       "    <tr>\n",
       "      <th>4</th>\n",
       "      <td>798863917116</td>\n",
       "      <td>0</td>\n",
       "    </tr>\n",
       "  </tbody>\n",
       "</table>\n",
       "</div>"
      ],
      "text/plain": [
       "       bookingID  label\n",
       "0   111669149733      0\n",
       "1   335007449205      1\n",
       "2   171798691856      0\n",
       "3  1520418422900      0\n",
       "4   798863917116      0"
      ]
     },
     "execution_count": 9,
     "metadata": {},
     "output_type": "execute_result"
    }
   ],
   "source": [
    "labels.head()"
   ]
  },
  {
   "cell_type": "code",
   "execution_count": null,
   "metadata": {},
   "outputs": [],
   "source": [
    "df[df['bookingID'] == 1194000908341]"
   ]
  },
  {
   "cell_type": "code",
   "execution_count": 10,
   "metadata": {},
   "outputs": [],
   "source": [
    "full_df = pd.merge(df, labels, on=\"bookingID\")"
   ]
  },
  {
   "cell_type": "code",
   "execution_count": 12,
   "metadata": {},
   "outputs": [],
   "source": [
    "full_df = full_df.sample(n=200000)"
   ]
  },
  {
   "cell_type": "code",
   "execution_count": 13,
   "metadata": {},
   "outputs": [
    {
     "data": {
      "text/plain": [
       "0    138685\n",
       "1     61315\n",
       "Name: label, dtype: int64"
      ]
     },
     "execution_count": 13,
     "metadata": {},
     "output_type": "execute_result"
    }
   ],
   "source": [
    "full_df['label'].value_counts()"
   ]
  },
  {
   "cell_type": "code",
   "execution_count": null,
   "metadata": {},
   "outputs": [],
   "source": [
    "import matplotlib as plt\n",
    "import seaborn as sns\n",
    "sns.set(style=\"white\")\n",
    "sns.set(style=\"whitegrid\", color_codes=True)"
   ]
  },
  {
   "cell_type": "code",
   "execution_count": null,
   "metadata": {},
   "outputs": [],
   "source": [
    "sns.countplot(x='label', data=full_df, palette='hls')\n",
    "plt"
   ]
  },
  {
   "cell_type": "code",
   "execution_count": 14,
   "metadata": {},
   "outputs": [],
   "source": [
    "y = full_df.label"
   ]
  },
  {
   "cell_type": "code",
   "execution_count": 15,
   "metadata": {},
   "outputs": [],
   "source": [
    "X = full_df.drop(['label', 'bookingID'], axis=1)"
   ]
  },
  {
   "cell_type": "code",
   "execution_count": 16,
   "metadata": {},
   "outputs": [
    {
     "data": {
      "text/html": [
       "<div>\n",
       "<style scoped>\n",
       "    .dataframe tbody tr th:only-of-type {\n",
       "        vertical-align: middle;\n",
       "    }\n",
       "\n",
       "    .dataframe tbody tr th {\n",
       "        vertical-align: top;\n",
       "    }\n",
       "\n",
       "    .dataframe thead th {\n",
       "        text-align: right;\n",
       "    }\n",
       "</style>\n",
       "<table border=\"1\" class=\"dataframe\">\n",
       "  <thead>\n",
       "    <tr style=\"text-align: right;\">\n",
       "      <th></th>\n",
       "      <th>Accuracy</th>\n",
       "      <th>Bearing</th>\n",
       "      <th>acceleration_x</th>\n",
       "      <th>acceleration_y</th>\n",
       "      <th>acceleration_z</th>\n",
       "      <th>gyro_x</th>\n",
       "      <th>gyro_y</th>\n",
       "      <th>gyro_z</th>\n",
       "      <th>second</th>\n",
       "      <th>Speed</th>\n",
       "    </tr>\n",
       "  </thead>\n",
       "  <tbody>\n",
       "    <tr>\n",
       "      <th>8119537</th>\n",
       "      <td>16.687</td>\n",
       "      <td>79.0</td>\n",
       "      <td>-0.388596</td>\n",
       "      <td>8.347824</td>\n",
       "      <td>2.859970</td>\n",
       "      <td>-0.011536</td>\n",
       "      <td>-0.033188</td>\n",
       "      <td>0.001419</td>\n",
       "      <td>1500.0</td>\n",
       "      <td>17.660000</td>\n",
       "    </tr>\n",
       "    <tr>\n",
       "      <th>4908611</th>\n",
       "      <td>3.000</td>\n",
       "      <td>6.0</td>\n",
       "      <td>-0.130484</td>\n",
       "      <td>9.502586</td>\n",
       "      <td>2.431312</td>\n",
       "      <td>0.004887</td>\n",
       "      <td>0.001222</td>\n",
       "      <td>-0.003665</td>\n",
       "      <td>213.0</td>\n",
       "      <td>0.000000</td>\n",
       "    </tr>\n",
       "    <tr>\n",
       "      <th>14936083</th>\n",
       "      <td>8.000</td>\n",
       "      <td>8.0</td>\n",
       "      <td>1.098972</td>\n",
       "      <td>8.942616</td>\n",
       "      <td>-4.144490</td>\n",
       "      <td>0.033805</td>\n",
       "      <td>-0.054559</td>\n",
       "      <td>-0.043396</td>\n",
       "      <td>3.0</td>\n",
       "      <td>15.500422</td>\n",
       "    </tr>\n",
       "    <tr>\n",
       "      <th>11383285</th>\n",
       "      <td>3.900</td>\n",
       "      <td>284.0</td>\n",
       "      <td>-1.078110</td>\n",
       "      <td>8.957169</td>\n",
       "      <td>-0.553467</td>\n",
       "      <td>0.127426</td>\n",
       "      <td>0.026559</td>\n",
       "      <td>0.042584</td>\n",
       "      <td>122.0</td>\n",
       "      <td>10.960000</td>\n",
       "    </tr>\n",
       "    <tr>\n",
       "      <th>6344300</th>\n",
       "      <td>6.712</td>\n",
       "      <td>301.0</td>\n",
       "      <td>1.045778</td>\n",
       "      <td>9.443881</td>\n",
       "      <td>1.060009</td>\n",
       "      <td>-0.029810</td>\n",
       "      <td>0.030875</td>\n",
       "      <td>0.042586</td>\n",
       "      <td>851.0</td>\n",
       "      <td>6.853169</td>\n",
       "    </tr>\n",
       "  </tbody>\n",
       "</table>\n",
       "</div>"
      ],
      "text/plain": [
       "          Accuracy  Bearing  acceleration_x  acceleration_y  acceleration_z  \\\n",
       "8119537     16.687     79.0       -0.388596        8.347824        2.859970   \n",
       "4908611      3.000      6.0       -0.130484        9.502586        2.431312   \n",
       "14936083     8.000      8.0        1.098972        8.942616       -4.144490   \n",
       "11383285     3.900    284.0       -1.078110        8.957169       -0.553467   \n",
       "6344300      6.712    301.0        1.045778        9.443881        1.060009   \n",
       "\n",
       "            gyro_x    gyro_y    gyro_z  second      Speed  \n",
       "8119537  -0.011536 -0.033188  0.001419  1500.0  17.660000  \n",
       "4908611   0.004887  0.001222 -0.003665   213.0   0.000000  \n",
       "14936083  0.033805 -0.054559 -0.043396     3.0  15.500422  \n",
       "11383285  0.127426  0.026559  0.042584   122.0  10.960000  \n",
       "6344300  -0.029810  0.030875  0.042586   851.0   6.853169  "
      ]
     },
     "execution_count": 16,
     "metadata": {},
     "output_type": "execute_result"
    }
   ],
   "source": [
    "X.head()"
   ]
  },
  {
   "cell_type": "code",
   "execution_count": 17,
   "metadata": {},
   "outputs": [],
   "source": [
    "normalized_df=(X-X.min())/(X.max()-X.min())"
   ]
  },
  {
   "cell_type": "code",
   "execution_count": 18,
   "metadata": {},
   "outputs": [
    {
     "data": {
      "text/html": [
       "<div>\n",
       "<style scoped>\n",
       "    .dataframe tbody tr th:only-of-type {\n",
       "        vertical-align: middle;\n",
       "    }\n",
       "\n",
       "    .dataframe tbody tr th {\n",
       "        vertical-align: top;\n",
       "    }\n",
       "\n",
       "    .dataframe thead th {\n",
       "        text-align: right;\n",
       "    }\n",
       "</style>\n",
       "<table border=\"1\" class=\"dataframe\">\n",
       "  <thead>\n",
       "    <tr style=\"text-align: right;\">\n",
       "      <th></th>\n",
       "      <th>Accuracy</th>\n",
       "      <th>Bearing</th>\n",
       "      <th>acceleration_x</th>\n",
       "      <th>acceleration_y</th>\n",
       "      <th>acceleration_z</th>\n",
       "      <th>gyro_x</th>\n",
       "      <th>gyro_y</th>\n",
       "      <th>gyro_z</th>\n",
       "      <th>second</th>\n",
       "      <th>Speed</th>\n",
       "    </tr>\n",
       "  </thead>\n",
       "  <tbody>\n",
       "    <tr>\n",
       "      <th>8119537</th>\n",
       "      <td>0.002626</td>\n",
       "      <td>0.219449</td>\n",
       "      <td>0.427113</td>\n",
       "      <td>0.489744</td>\n",
       "      <td>0.476683</td>\n",
       "      <td>0.517366</td>\n",
       "      <td>0.603968</td>\n",
       "      <td>0.618061</td>\n",
       "      <td>2.422029e-06</td>\n",
       "      <td>0.478647</td>\n",
       "    </tr>\n",
       "    <tr>\n",
       "      <th>4908611</th>\n",
       "      <td>0.000371</td>\n",
       "      <td>0.016667</td>\n",
       "      <td>0.432263</td>\n",
       "      <td>0.503827</td>\n",
       "      <td>0.471274</td>\n",
       "      <td>0.517857</td>\n",
       "      <td>0.604330</td>\n",
       "      <td>0.617802</td>\n",
       "      <td>3.439282e-07</td>\n",
       "      <td>0.042476</td>\n",
       "    </tr>\n",
       "    <tr>\n",
       "      <th>14936083</th>\n",
       "      <td>0.001195</td>\n",
       "      <td>0.022223</td>\n",
       "      <td>0.456794</td>\n",
       "      <td>0.496998</td>\n",
       "      <td>0.388297</td>\n",
       "      <td>0.518721</td>\n",
       "      <td>0.603743</td>\n",
       "      <td>0.615779</td>\n",
       "      <td>4.844059e-09</td>\n",
       "      <td>0.425309</td>\n",
       "    </tr>\n",
       "    <tr>\n",
       "      <th>11383285</th>\n",
       "      <td>0.000519</td>\n",
       "      <td>0.788904</td>\n",
       "      <td>0.413356</td>\n",
       "      <td>0.497175</td>\n",
       "      <td>0.433611</td>\n",
       "      <td>0.521519</td>\n",
       "      <td>0.604597</td>\n",
       "      <td>0.620157</td>\n",
       "      <td>1.969917e-07</td>\n",
       "      <td>0.313169</td>\n",
       "    </tr>\n",
       "    <tr>\n",
       "      <th>6344300</th>\n",
       "      <td>0.000982</td>\n",
       "      <td>0.836127</td>\n",
       "      <td>0.455732</td>\n",
       "      <td>0.503111</td>\n",
       "      <td>0.453970</td>\n",
       "      <td>0.516820</td>\n",
       "      <td>0.604643</td>\n",
       "      <td>0.620157</td>\n",
       "      <td>1.374098e-06</td>\n",
       "      <td>0.211737</td>\n",
       "    </tr>\n",
       "  </tbody>\n",
       "</table>\n",
       "</div>"
      ],
      "text/plain": [
       "          Accuracy   Bearing  acceleration_x  acceleration_y  acceleration_z  \\\n",
       "8119537   0.002626  0.219449        0.427113        0.489744        0.476683   \n",
       "4908611   0.000371  0.016667        0.432263        0.503827        0.471274   \n",
       "14936083  0.001195  0.022223        0.456794        0.496998        0.388297   \n",
       "11383285  0.000519  0.788904        0.413356        0.497175        0.433611   \n",
       "6344300   0.000982  0.836127        0.455732        0.503111        0.453970   \n",
       "\n",
       "            gyro_x    gyro_y    gyro_z        second     Speed  \n",
       "8119537   0.517366  0.603968  0.618061  2.422029e-06  0.478647  \n",
       "4908611   0.517857  0.604330  0.617802  3.439282e-07  0.042476  \n",
       "14936083  0.518721  0.603743  0.615779  4.844059e-09  0.425309  \n",
       "11383285  0.521519  0.604597  0.620157  1.969917e-07  0.313169  \n",
       "6344300   0.516820  0.604643  0.620157  1.374098e-06  0.211737  "
      ]
     },
     "execution_count": 18,
     "metadata": {},
     "output_type": "execute_result"
    }
   ],
   "source": [
    "normalized_df.head()"
   ]
  },
  {
   "cell_type": "code",
   "execution_count": null,
   "metadata": {},
   "outputs": [],
   "source": []
  },
  {
   "cell_type": "code",
   "execution_count": 19,
   "metadata": {},
   "outputs": [],
   "source": [
    "import numpy as np\n",
    "from sklearn import preprocessing\n",
    "from sklearn.ensemble import RandomForestClassifier\n",
    "from sklearn.model_selection import train_test_split\n",
    "from sklearn.metrics import confusion_matrix, precision_score, recall_score, roc_auc_score, roc_curve"
   ]
  },
  {
   "cell_type": "code",
   "execution_count": 21,
   "metadata": {},
   "outputs": [],
   "source": [
    "#from sklearn.cross_validation import train_test_split\n",
    "X_train,X_test,y_train,y_test=train_test_split(normalized_df,y,test_size=0.25,random_state=0)"
   ]
  },
  {
   "cell_type": "code",
   "execution_count": 22,
   "metadata": {},
   "outputs": [],
   "source": [
    "features = list(X_train.columns)"
   ]
  },
  {
   "cell_type": "code",
   "execution_count": 23,
   "metadata": {},
   "outputs": [
    {
     "name": "stderr",
     "output_type": "stream",
     "text": [
      "[Parallel(n_jobs=-1)]: Using backend ThreadingBackend with 4 concurrent workers.\n",
      "[Parallel(n_jobs=-1)]: Done  42 tasks      | elapsed:   16.2s\n",
      "[Parallel(n_jobs=-1)]: Done 100 out of 100 | elapsed:   40.7s finished\n"
     ]
    },
    {
     "data": {
      "text/plain": [
       "RandomForestClassifier(bootstrap=True, class_weight=None, criterion='gini',\n",
       "            max_depth=None, max_features='sqrt', max_leaf_nodes=None,\n",
       "            min_impurity_decrease=0.0, min_impurity_split=None,\n",
       "            min_samples_leaf=1, min_samples_split=2,\n",
       "            min_weight_fraction_leaf=0.0, n_estimators=100, n_jobs=-1,\n",
       "            oob_score=False, random_state=50, verbose=1, warm_start=False)"
      ]
     },
     "execution_count": 23,
     "metadata": {},
     "output_type": "execute_result"
    }
   ],
   "source": [
    "RSEED = 50\n",
    "\n",
    "# Create the model with 100 trees\n",
    "rf_model = RandomForestClassifier(n_estimators=100,  random_state=RSEED,  max_features = 'sqrt', n_jobs=-1, verbose = 1)\n",
    "\n",
    "# Fit on training data\n",
    "rf_model.fit(X_train, y_train)"
   ]
  },
  {
   "cell_type": "code",
   "execution_count": 25,
   "metadata": {},
   "outputs": [
    {
     "name": "stdout",
     "output_type": "stream",
     "text": [
      "Average number of nodes50825\n",
      "Average maximum depth76\n"
     ]
    }
   ],
   "source": [
    "n_nodes = []\n",
    "max_depths = []\n",
    "\n",
    "for ind_tree in rf_model.estimators_:\n",
    "    n_nodes.append(ind_tree.tree_.node_count)\n",
    "    max_depths.append(ind_tree.tree_.max_depth)\n",
    "    \n",
    "print('Average number of nodes') + str(int(np.mean(n_nodes)))\n",
    "print('Average maximum depth') + str(int(np.mean(max_depths)))"
   ]
  },
  {
   "cell_type": "code",
   "execution_count": 26,
   "metadata": {},
   "outputs": [
    {
     "name": "stderr",
     "output_type": "stream",
     "text": [
      "[Parallel(n_jobs=4)]: Using backend ThreadingBackend with 4 concurrent workers.\n",
      "[Parallel(n_jobs=4)]: Done  42 tasks      | elapsed:    0.8s\n",
      "[Parallel(n_jobs=4)]: Done 100 out of 100 | elapsed:    2.0s finished\n",
      "[Parallel(n_jobs=4)]: Using backend ThreadingBackend with 4 concurrent workers.\n",
      "[Parallel(n_jobs=4)]: Done  42 tasks      | elapsed:    0.9s\n",
      "[Parallel(n_jobs=4)]: Done 100 out of 100 | elapsed:    2.1s finished\n",
      "[Parallel(n_jobs=4)]: Using backend ThreadingBackend with 4 concurrent workers.\n",
      "[Parallel(n_jobs=4)]: Done  42 tasks      | elapsed:    0.3s\n",
      "[Parallel(n_jobs=4)]: Done 100 out of 100 | elapsed:    0.6s finished\n",
      "[Parallel(n_jobs=4)]: Using backend ThreadingBackend with 4 concurrent workers.\n",
      "[Parallel(n_jobs=4)]: Done  42 tasks      | elapsed:    0.3s\n",
      "[Parallel(n_jobs=4)]: Done 100 out of 100 | elapsed:    0.7s finished\n"
     ]
    }
   ],
   "source": [
    "train_rf_predictions = rf_model.predict(X_train)\n",
    "train_rf_probs = rf_model.predict_proba(X_train)[:, 1]\n",
    "\n",
    "rf_predictions = rf_model.predict(X_test)\n",
    "rf_probs = rf_model.predict_proba(X_test)[:, 1]"
   ]
  },
  {
   "cell_type": "code",
   "execution_count": 30,
   "metadata": {},
   "outputs": [],
   "source": [
    "import matplotlib.pyplot as plt\n",
    "import seaborn as sns\n",
    "%matplotlib inline"
   ]
  },
  {
   "cell_type": "code",
   "execution_count": 31,
   "metadata": {},
   "outputs": [],
   "source": [
    "def evaluate_model(predictions, probs, train_predictions, train_probs):\n",
    "    \"\"\"Compare machine learning model to baseline performance.\n",
    "    Computes statistics and shows ROC curve.\"\"\"\n",
    "    \n",
    "    baseline = {}\n",
    "    \n",
    "    baseline['recall'] = recall_score(y_test, [1 for _ in range(len(y_test))])\n",
    "    baseline['precision'] = precision_score(y_test, [1 for _ in range(len(y_test))])\n",
    "    baseline['roc'] = 0.5\n",
    "\n",
    "    results = {}\n",
    "    \n",
    "    results['recall'] = recall_score(y_test, predictions)\n",
    "    results['precision'] = precision_score(y_test, predictions)\n",
    "    results['roc'] = roc_auc_score(y_test, probs)\n",
    "    \n",
    "    train_results = {}\n",
    "    train_results['recall'] = recall_score(y_train, train_predictions)\n",
    "    train_results['precision'] = precision_score(y_train, train_predictions)\n",
    "    train_results['roc'] = roc_auc_score(y_train, train_probs)\n",
    "    \n",
    "    for metric in ['recall', 'precision', 'roc']:\n",
    "        print 'Baseline: ' + str(round(baseline[metric], 2))\n",
    "        print 'Test: ' + str(round(results[metric], 2))\n",
    "        print 'Train: ' + str(round(train_results[metric], 2))\n",
    "#         print(f'{metric.capitalize()} Baseline: {round(baseline[metric], 2)} Test: {round(results[metric], 2)} Train: {round(train_results[metric], 2)}')\n",
    "    \n",
    "    # Calculate false positive rates and true positive rates\n",
    "    base_fpr, base_tpr, _ = roc_curve(y_test, [1 for _ in range(len(y_test))])\n",
    "    model_fpr, model_tpr, _ = roc_curve(y_test, probs)\n",
    "\n",
    "    plt.figure(figsize = (8, 6))\n",
    "    plt.rcParams['font.size'] = 16\n",
    "    \n",
    "    # Plot both curves\n",
    "    plt.plot(base_fpr, base_tpr, 'b', label = 'baseline')\n",
    "    plt.plot(model_fpr, model_tpr, 'r', label = 'model')\n",
    "    plt.legend();\n",
    "    plt.xlabel('False Positive Rate'); plt.ylabel('True Positive Rate'); plt.title('ROC Curves');"
   ]
  },
  {
   "cell_type": "code",
   "execution_count": 32,
   "metadata": {},
   "outputs": [
    {
     "name": "stdout",
     "output_type": "stream",
     "text": [
      "Baseline: 1.0\n",
      "Test: 0.17\n",
      "Train: 1.0\n",
      "Baseline: 0.31\n",
      "Test: 0.73\n",
      "Train: 1.0\n",
      "Baseline: 0.5\n",
      "Test: 0.65\n",
      "Train: 1.0\n"
     ]
    },
    {
     "data": {
      "image/png": "[encoded data removed]",
      "text/plain": [
       "<Figure size 576x432 with 1 Axes>"
      ]
     },
     "metadata": {},
     "output_type": "display_data"
    }
   ],
   "source": [
    "evaluate_model(rf_predictions, rf_probs, train_rf_predictions, train_rf_probs)"
   ]
  },
  {
   "cell_type": "code",
   "execution_count": 33,
   "metadata": {},
   "outputs": [
    {
     "data": {
      "text/plain": [
       "0.6450969243644681"
      ]
     },
     "execution_count": 33,
     "metadata": {},
     "output_type": "execute_result"
    }
   ],
   "source": [
    "auc = roc_auc_score(y_test, rf_probs)\n",
    "auc"
   ]
  },
  {
   "cell_type": "code",
   "execution_count": null,
   "metadata": {},
   "outputs": [],
   "source": []
  }
 ],
 "metadata": {
  "kernelspec": {
   "display_name": "Python 2",
   "language": "python",
   "name": "python2"
  },
  "language_info": {
   "codemirror_mode": {
    "name": "ipython",
    "version": 2
   },
   "file_extension": ".py",
   "mimetype": "text/x-python",
   "name": "python",
   "nbconvert_exporter": "python",
   "pygments_lexer": "ipython2",
   "version": "2.7.15"
  }
 },
 "nbformat": 4,
 "nbformat_minor": 2
}
